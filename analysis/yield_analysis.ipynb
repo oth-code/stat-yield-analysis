{
 "cells": [
  {
   "cell_type": "code",
   "execution_count": null,
   "id": "9f0b1a3f",
   "metadata": {
    "vscode": {
     "languageId": "plaintext"
    }
   },
   "outputs": [],
   "source": [
    "import pandas as pd\n",
    "import matplotlib.pyplot as plt\n",
    "from scipy import stats\n",
    "from scripts.cpk_utils import basic_stats, cp, cpk\n",
    "\n",
    "# Lire le CSV\n",
    "df = pd.read_csv(\"../data/measurements.csv\")\n",
    "x = df[\"voltage_V\"].values\n",
    "\n",
    "print(\"Nombre de mesures :\", len(x))\n",
    "df.head()"
   ]
  },
  {
   "cell_type": "code",
   "execution_count": null,
   "id": "b8dfa065",
   "metadata": {
    "vscode": {
     "languageId": "plaintext"
    }
   },
   "outputs": [],
   "source": [
    "LSL, USL = 4.8, 5.2\n",
    "\n",
    "plt.figure(figsize=(8,5))\n",
    "plt.hist(x, bins=30, edgecolor=\"black\", alpha=0.7)\n",
    "plt.axvline(LSL, color=\"red\", linestyle=\"--\", label=\"LSL=4.8V\")\n",
    "plt.axvline(USL, color=\"red\", linestyle=\"--\", label=\"USL=5.2V\")\n",
    "plt.xlabel(\"Tension mesurée [V]\")\n",
    "plt.ylabel(\"Fréquence\")\n",
    "plt.title(\"Distribution des mesures de tension\")\n",
    "plt.legend()\n",
    "plt.show()"
   ]
  },
  {
   "cell_type": "code",
   "execution_count": null,
   "id": "4329248b",
   "metadata": {
    "vscode": {
     "languageId": "plaintext"
    }
   },
   "outputs": [],
   "source": [
    "stats.probplot(x, dist=\"norm\", plot=plt)\n",
    "plt.title(\"Q-Q Plot vs loi normale\")\n",
    "plt.show()\n"
   ]
  },
  {
   "cell_type": "code",
   "execution_count": null,
   "id": "fe460ecb",
   "metadata": {
    "vscode": {
     "languageId": "plaintext"
    }
   },
   "outputs": [],
   "source": [
    "m, s = stats_dict[\"mean\"], stats_dict[\"std_pop\"]\n",
    "print(\"Moyenne:\", m, \"Écart-type:\", s)\n",
    "\n",
    "Cp  = cp(m, s, LSL, USL)\n",
    "Cpk = cpk(m, s, LSL, USL)\n",
    "\n",
    "print(f\"Cp: {Cp:.2f}\")\n",
    "print(f\"Cpk: {Cpk:.2f}\")"
   ]
  },
  {
   "cell_type": "code",
   "execution_count": null,
   "id": "a171e3e6",
   "metadata": {
    "vscode": {
     "languageId": "plaintext"
    }
   },
   "outputs": [],
   "source": [
    "stats_dict = basic_stats(x)\n",
    "print(\"Statistiques de base :\")\n",
    "for k, v in stats_dict.items():\n",
    "    print(f\"{k}: {v:.4f}\")"
   ]
  }
 ],
 "metadata": {
  "language_info": {
   "name": "python"
  }
 },
 "nbformat": 4,
 "nbformat_minor": 5
}
