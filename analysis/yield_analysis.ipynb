{
 "cells": [
  {
   "cell_type": "code",
   "execution_count": null,
   "id": "9f0b1a3f",
   "metadata": {
    "vscode": {
     "languageId": "plaintext"
    }
   },
   "outputs": [],
   "source": [
    "import pandas as pd\n",
    "import matplotlib.pyplot as plt\n",
    "from scipy import stats\n",
    "from scripts.cpk_utils import basic_stats, cp, cpk\n",
    "\n",
    "# Lire le CSV\n",
    "df = pd.read_csv(\"../data/measurements.csv\")\n",
    "x = df[\"voltage_V\"].values\n",
    "\n",
    "print(\"Nombre de mesures :\", len(x))\n",
    "df.head()"
   ]
  },
  {
   "cell_type": "code",
   "execution_count": null,
   "id": "a171e3e6",
   "metadata": {
    "vscode": {
     "languageId": "plaintext"
    }
   },
   "outputs": [],
   "source": [
    "stats_dict = basic_stats(x)\n",
    "print(\"Statistiques de base :\")\n",
    "for k, v in stats_dict.items():\n",
    "    print(f\"{k}: {v:.4f}\")"
   ]
  }
 ],
 "metadata": {
  "language_info": {
   "name": "python"
  }
 },
 "nbformat": 4,
 "nbformat_minor": 5
}
